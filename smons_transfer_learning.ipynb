{
 "cells": [
  {
   "cell_type": "code",
   "execution_count": 2,
   "metadata": {
    "pycharm": {
     "name": "#%%\n"
    }
   },
   "outputs": [
    {
     "name": "stdout",
     "output_type": "stream",
     "text": [
      "The autoreload extension is already loaded. To reload it, use:\n",
      "  %reload_ext autoreload\n",
      "/home/nicolo_b/Desktop/PhD/IFX/Notebooks/deepLearning/TRANSFER_LEARNING_JOURNAL_PAPER\n"
     ]
    }
   ],
   "source": [
    "%load_ext autoreload\n",
    "\n",
    "%cd /home/nicolo_b/Desktop/PhD/IFX/Notebooks/deepLearning/TRANSFER_LEARNING_JOURNAL_PAPER\n",
    "import sys,os\n",
    "sys.path.append('../')\n",
    "import nn_models\n",
    "from nn_models import *\n",
    "\n",
    "import pandas as pd\n",
    "from sklearn.decomposition import PCA\n",
    "from sklearn.preprocessing import StandardScaler\n",
    "from sklearn.model_selection import train_test_split\n",
    "from parse import *\n",
    "\n",
    "\n",
    "from sklearn.linear_model import RidgeCV\n",
    "\n",
    "from sklearn.linear_model import LinearRegression\n",
    "import torch\n",
    "from torch import nn\n",
    "import pytorch_lightning as pl\n",
    "from sklearn.neighbors import KNeighborsRegressor\n",
    "from sklearn.ensemble import RandomForestRegressor\n",
    "import os\n",
    "\n",
    "\n",
    "from sklearn.preprocessing import StandardScaler\n",
    "from sklearn.decomposition import PCA\n",
    "\n",
    "\n",
    "from datetime import datetime\n",
    "import numpy as np\n",
    "from sklearn.model_selection import train_test_split\n",
    "\n",
    "from sklearn.metrics import r2_score\n",
    "from sklearn.pipeline import Pipeline\n",
    "from sklearn.ensemble import VotingRegressor\n"
   ]
  },
  {
   "cell_type": "code",
   "execution_count": 3,
   "metadata": {
    "pycharm": {
     "name": "#%%\n"
    }
   },
   "outputs": [
    {
     "data": {
      "text/plain": [
       "device(type='cuda')"
      ]
     },
     "execution_count": 3,
     "metadata": {},
     "output_type": "execute_result"
    }
   ],
   "source": [
    "SEED = 42\n",
    "np.random.seed(SEED)\n",
    "torch.manual_seed(SEED)\n",
    "torch.cuda.manual_seed(SEED)\n",
    "torch.cuda.manual_seed_all(SEED)\n",
    "torch.backends.cudnn.deterministic = True\n",
    "device = torch.device(\"cuda\" if torch.cuda.is_available() else \"cpu\")\n",
    "device"
   ]
  },
  {
   "cell_type": "code",
   "execution_count": 4,
   "metadata": {},
   "outputs": [],
   "source": [
    "from sklearn.datasets import make_regression\n",
    "from sklearn.preprocessing import PolynomialFeatures\n",
    "from sklearn.pipeline import Pipeline\n",
    "from sklearn.preprocessing import MinMaxScaler\n",
    "X, _  = make_regression(n_samples=3000, n_features=27, effective_rank = 14, n_informative=27, noise=0.1, random_state=SEED)\n",
    "\n",
    "# add non_linearity to mimic polynomial features interactions\n",
    "ground_truth = Pipeline([\n",
    "    ('scaler', StandardScaler()),\n",
    "    ('poly', PolynomialFeatures(2)),\n",
    "    ('pca', PCA(1,random_state=SEED)),\n",
    "])\n",
    "\n",
    "y = ground_truth.fit_transform(X).reshape(-1)\n",
    "y = MinMaxScaler().fit_transform(y.reshape(-1,1)).reshape(-1)\n",
    "\n"
   ]
  },
  {
   "cell_type": "code",
   "execution_count": 5,
   "metadata": {},
   "outputs": [],
   "source": [
    "checkpoint_path = f'./checkpoints'\n",
    "checkpoint_name_fe = 'SoftOrdering_PL_FE.ckpt'\n",
    "checkpoint_name_fe_ae = 'SoftOrdering_AE_FE.ckpt'"
   ]
  },
  {
   "cell_type": "code",
   "execution_count": 6,
   "metadata": {},
   "outputs": [],
   "source": [
    "parameter_dict = {'input_dim':27,\n",
    "        'sign_size':32,\n",
    "        'cha_input':32,\n",
    "        'cha_hidden':32,\n",
    "        'K':2,\n",
    "        'dropout_input':0.1,\n",
    "        'dropout_hidden':0.1,\n",
    "        'dropout_output':0.1}\n",
    "\n",
    "parameter_dict_ae = {'input_dim':27,\n",
    "        'sign_size':32,\n",
    "        'cha_input':32,\n",
    "        'cha_hidden':64,\n",
    "        'K':4,\n",
    "        'dropout_input':0.2,\n",
    "        'dropout_hidden':0.2,\n",
    "        'dropout_output':0.2}"
   ]
  },
  {
   "cell_type": "code",
   "execution_count": 7,
   "metadata": {},
   "outputs": [],
   "source": [
    "BEST_COLUMNS = np.arange(27)\n",
    "COLUMNS = np.arange(27)\n",
    "def create_reg():\n",
    "    regressors_dict = {\n",
    "        'Baseline': Pipeline([\n",
    "            ('scaler',StandardScaler()),\n",
    "            ('PCA',PCA(14)),\n",
    "            ('transformer',PolynomialFeatures(2)),\n",
    "            ('regressor',RidgeCV(alphas=np.logspace(-6,6,2000)))\n",
    "            ]),\n",
    "        'Dummy Voting CNN': VotingRegressor(\n",
    "            [(f'Dummy CNN {i}',Pipeline([\n",
    "                ('scaler',StandardScaler()),\n",
    "                ('selector',DummySelector(columns=COLUMNS,features_len=27)),\n",
    "                ('transformer',SoftOrderingTrasnformer(SoftOrdering1DCNN,parameter_dict,allow_training=False,pre_trained_ckpt=os.path.join(checkpoint_path,checkpoint_name_fe),callbacks = \n",
    "                 [EarlyStopping(monitor='valid_loss',min_delta=.01,patience=30,verbose=True,mode='min')])),                \n",
    "                ('regressor',RidgeCV(alphas=np.logspace(-6,6,2000)))])) for i in range(10)],n_jobs=1),\n",
    "        \n",
    "        'SoftOrderingCNN' : Pipeline([\n",
    "        ('scaler',StandardScaler()),\n",
    "        ('transformer',SoftOrderingTrasnformer(SoftOrdering1DCNN,parameter_dict,pre_trained_ckpt=os.path.join(checkpoint_path,checkpoint_name_fe),\n",
    "                                               device='cuda',allow_training=False)),\n",
    "        ('regressor',RidgeCV(alphas=np.logspace(-6,6,2000)))\n",
    "        ]),\n",
    "        \n",
    "         'SoftOrderingCNN_AE' : Pipeline([\n",
    "        ('scaler',StandardScaler()),\n",
    "        ('transformer',SoftOrderingTrasnformer(SoftOrdering1DCNN_AutoEncoder,parameter_dict_ae,pre_trained_ckpt=os.path.join(checkpoint_path,checkpoint_name_fe_ae),\n",
    "                                               device='cuda',allow_training=False)),\n",
    "        ('regressor',RidgeCV(alphas=np.logspace(-6,6,2000)))\n",
    "        ]),         \n",
    "        'KNN-5': Pipeline([\n",
    "            ('scaler',StandardScaler()),\n",
    "            ('regressor',KNeighborsRegressor(n_neighbors=5,n_jobs=-1))\n",
    "            ]),\n",
    "        'RandomForest':\n",
    "            Pipeline([\n",
    "            ('scaler',StandardScaler()),\n",
    "            ('regressor',RandomForestRegressor(n_estimators=100,n_jobs=-1))\n",
    "            ]),\n",
    "        'Linear Ridge': Pipeline([\n",
    "            ('scaler',StandardScaler()),\n",
    "            ('regressor',RidgeCV(alphas=np.logspace(-6,6,2000)))\n",
    "          ]),\n",
    "    \n",
    "        'Linear Reg': Pipeline([\n",
    "            ('scaler',StandardScaler()),\n",
    "            ('regressor',LinearRegression())\n",
    "          ])\n",
    "\n",
    "        }\n",
    "    return regressors_dict"
   ]
  },
  {
   "cell_type": "code",
   "execution_count": 8,
   "metadata": {},
   "outputs": [
    {
     "name": "stdout",
     "output_type": "stream",
     "text": [
      "Baseline 0.9723106997260786\n",
      "Baseline 0.9739899725241814\n",
      "Baseline 0.976971479897263\n",
      "Baseline 0.9728230090756222\n",
      "Baseline 0.9743373121361071\n",
      "Baseline mean 0.9740864946718505\n",
      "Dummy Voting CNN 0.7660120174640297\n",
      "Dummy Voting CNN 0.7448891802064432\n",
      "Dummy Voting CNN 0.7822704776095264\n",
      "Dummy Voting CNN 0.7881667451116458\n",
      "Dummy Voting CNN 0.7902418416967\n",
      "Dummy Voting CNN mean 0.7743160524176689\n",
      "SoftOrderingCNN 0.5570689769315814\n",
      "SoftOrderingCNN 0.617695202279043\n",
      "SoftOrderingCNN 0.5998603592328945\n",
      "SoftOrderingCNN 0.6222708720891356\n",
      "SoftOrderingCNN 0.5711633917245278\n",
      "SoftOrderingCNN mean 0.5936117604514364\n",
      "SoftOrderingCNN_AE 0.1711721786725039\n",
      "SoftOrderingCNN_AE 0.1603010102346355\n",
      "SoftOrderingCNN_AE 0.12559652051420045\n",
      "SoftOrderingCNN_AE 0.1337224707244573\n",
      "SoftOrderingCNN_AE 0.08998018596003765\n",
      "SoftOrderingCNN_AE mean 0.13615447322116697\n",
      "KNN-5 0.3888188182775054\n",
      "KNN-5 0.3722586147532636\n",
      "KNN-5 0.3657186460132896\n",
      "KNN-5 0.36125980603650387\n",
      "KNN-5 0.40593483132124053\n",
      "KNN-5 mean 0.37879814328036054\n",
      "RandomForest 0.6004241092248483\n",
      "RandomForest 0.6367388222876733\n",
      "RandomForest 0.5781756642612912\n",
      "RandomForest 0.6581207057496292\n",
      "RandomForest 0.6675304312991579\n",
      "RandomForest mean 0.62819794656452\n",
      "Linear Ridge -3.827700071701301e-05\n",
      "Linear Ridge -0.0035637298793933514\n",
      "Linear Ridge -0.0023099130906656384\n",
      "Linear Ridge -0.001197847663263918\n",
      "Linear Ridge -0.00430775017207341\n",
      "Linear Ridge mean -0.002283503561222666\n",
      "Linear Reg -0.007111736271711688\n",
      "Linear Reg -0.027098162887199573\n",
      "Linear Reg -0.025895350487578073\n",
      "Linear Reg -0.023209069005802663\n",
      "Linear Reg -0.015652716969275282\n",
      "Linear Reg mean -0.019793407124313454\n"
     ]
    }
   ],
   "source": [
    "from collections import defaultdict\n",
    "mean_scores = defaultdict(list)\n",
    "regressors_dict = create_reg()\n",
    "for name,reg in regressors_dict.items():\n",
    "    for i in range(5):\n",
    "        X_train, X_test, y_train, y_test = train_test_split(X,y,test_size=0.2,random_state=i)\n",
    "        reg.fit(X_train,y_train)\n",
    "        y_prd = reg.predict(X_test)\n",
    "        mean_scores[name].append(r2_score(y_test,y_prd))\n",
    "        print(f'{name} {mean_scores[name][-1]}')\n",
    "    print(f'{name} mean {np.mean(mean_scores[name])}')"
   ]
  },
  {
   "cell_type": "code",
   "execution_count": null,
   "metadata": {},
   "outputs": [],
   "source": []
  }
 ],
 "metadata": {
  "kernelspec": {
   "display_name": "Python [conda env:anaconda3-ifx38]",
   "language": "python",
   "name": "conda-env-anaconda3-ifx38-py"
  }
 },
 "nbformat": 4,
 "nbformat_minor": 4
}
